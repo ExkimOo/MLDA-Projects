{
 "cells": [
  {
   "cell_type": "code",
   "execution_count": 1,
   "metadata": {
    "collapsed": true
   },
   "outputs": [],
   "source": [
    "import codecs\n",
    "from bs4 import BeautifulSoup\n",
    "import re\n",
    "import numpy as np\n",
    "import pandas as pd\n",
    "import seaborn as sns\n",
    "from matplotlib import pyplot as plt\n",
    "\n",
    "import lightgbm as lgb\n",
    "from sklearn.linear_model import LogisticRegression\n",
    "from sklearn.ensemble import RandomForestClassifier\n",
    "from sklearn.svm import SVC, LinearSVC\n",
    "from sklearn.pipeline import Pipeline\n",
    "from sklearn.model_selection import RandomizedSearchCV\n",
    "from sklearn.feature_extraction.text import TfidfVectorizer, TfidfTransformer, CountVectorizer\n",
    "from imblearn.under_sampling import RandomUnderSampler"
   ]
  },
  {
   "cell_type": "markdown",
   "source": [
    "# Смотрим на тестовые данные"
   ],
   "metadata": {
    "collapsed": false
   }
  },
  {
   "cell_type": "code",
   "execution_count": 2,
   "outputs": [],
   "source": [
    "with codecs.open('test.csv', 'r', encoding='utf-8') as f:\n",
    "    test_text = f.read()\n",
    "    soup = BeautifulSoup(test_text, 'html.parser')\n",
    "    test_reviews = soup.findAll('review')\n",
    "    test_list = [test_review.text for test_review in test_reviews]"
   ],
   "metadata": {
    "collapsed": false,
    "pycharm": {
     "name": "#%%\n"
    }
   }
  },
  {
   "cell_type": "code",
   "execution_count": 3,
   "outputs": [
    {
     "data": {
      "text/plain": "                                                 text\n0   Ужасно слабый аккумулятор, это основной минус ...\n1   ценанадежность-неубиваемостьдолго держит батар...\n2   подробнее в комментариях\\nК сожалению, факт по...\n3   я любительница громкой музыки. Тише телефона у...\n4   Дата выпуска - 2011 г, емкость - 1430 mAh, тех...\n..                                                ...\n95  Нет передней камеры, внутренняя память очень м...\n96  Звук при прослушивание музыки хороший,не глючи...\n97  Очень маленькая память забита вшитыми и соверш...\n98  Удобный корпус,стандартное меню нокиа,камера д...\n99  ПО, камера, отсутствие выбора приложение, нево...\n\n[100 rows x 1 columns]",
      "text/html": "<div>\n<style scoped>\n    .dataframe tbody tr th:only-of-type {\n        vertical-align: middle;\n    }\n\n    .dataframe tbody tr th {\n        vertical-align: top;\n    }\n\n    .dataframe thead th {\n        text-align: right;\n    }\n</style>\n<table border=\"1\" class=\"dataframe\">\n  <thead>\n    <tr style=\"text-align: right;\">\n      <th></th>\n      <th>text</th>\n    </tr>\n  </thead>\n  <tbody>\n    <tr>\n      <th>0</th>\n      <td>Ужасно слабый аккумулятор, это основной минус ...</td>\n    </tr>\n    <tr>\n      <th>1</th>\n      <td>ценанадежность-неубиваемостьдолго держит батар...</td>\n    </tr>\n    <tr>\n      <th>2</th>\n      <td>подробнее в комментариях\\nК сожалению, факт по...</td>\n    </tr>\n    <tr>\n      <th>3</th>\n      <td>я любительница громкой музыки. Тише телефона у...</td>\n    </tr>\n    <tr>\n      <th>4</th>\n      <td>Дата выпуска - 2011 г, емкость - 1430 mAh, тех...</td>\n    </tr>\n    <tr>\n      <th>...</th>\n      <td>...</td>\n    </tr>\n    <tr>\n      <th>95</th>\n      <td>Нет передней камеры, внутренняя память очень м...</td>\n    </tr>\n    <tr>\n      <th>96</th>\n      <td>Звук при прослушивание музыки хороший,не глючи...</td>\n    </tr>\n    <tr>\n      <th>97</th>\n      <td>Очень маленькая память забита вшитыми и соверш...</td>\n    </tr>\n    <tr>\n      <th>98</th>\n      <td>Удобный корпус,стандартное меню нокиа,камера д...</td>\n    </tr>\n    <tr>\n      <th>99</th>\n      <td>ПО, камера, отсутствие выбора приложение, нево...</td>\n    </tr>\n  </tbody>\n</table>\n<p>100 rows × 1 columns</p>\n</div>"
     },
     "execution_count": 3,
     "metadata": {},
     "output_type": "execute_result"
    }
   ],
   "source": [
    "test = pd.DataFrame(test_list, columns=['text'])\n",
    "test"
   ],
   "metadata": {
    "collapsed": false,
    "pycharm": {
     "name": "#%%\n"
    }
   }
  },
  {
   "cell_type": "markdown",
   "source": [
    "# Загружаем данные для обучения"
   ],
   "metadata": {
    "collapsed": false
   }
  },
  {
   "cell_type": "code",
   "execution_count": 4,
   "outputs": [],
   "source": [
    "X_test = test['text'].values"
   ],
   "metadata": {
    "collapsed": false,
    "pycharm": {
     "name": "#%%\n"
    }
   }
  },
  {
   "cell_type": "code",
   "execution_count": 5,
   "outputs": [],
   "source": [
    "train = pd.read_json('train_yandex_market.json', lines=True, encoding=\"utf8\")"
   ],
   "metadata": {
    "collapsed": false,
    "pycharm": {
     "name": "#%%\n"
    }
   }
  },
  {
   "cell_type": "code",
   "execution_count": 6,
   "outputs": [
    {
     "name": "stdout",
     "output_type": "stream",
     "text": [
      "<class 'pandas.core.frame.DataFrame'>\n",
      "RangeIndex: 63488 entries, 0 to 63487\n",
      "Data columns (total 2 columns):\n",
      " #   Column  Non-Null Count  Dtype \n",
      "---  ------  --------------  ----- \n",
      " 0   text    63488 non-null  object\n",
      " 1   rating  63488 non-null  int64 \n",
      "dtypes: int64(1), object(1)\n",
      "memory usage: 992.1+ KB\n"
     ]
    }
   ],
   "source": [
    "train.info()"
   ],
   "metadata": {
    "collapsed": false,
    "pycharm": {
     "name": "#%%\n"
    }
   }
  },
  {
   "cell_type": "code",
   "execution_count": 7,
   "outputs": [
    {
     "data": {
      "text/plain": "                                                text  rating\n0  несколько месяцев Смартфон, действительно очен...       5\n1  менее месяца яркость экрана, 5000 мач, удобно ...       5\n2  менее месяца Удобно лежит в руке, отличные фот...       5\n3  менее месяца Обычный смартфон, хорошее качеств...       4\n4  несколько месяцев Хорошая связь. 4g_3g мобильн...       4",
      "text/html": "<div>\n<style scoped>\n    .dataframe tbody tr th:only-of-type {\n        vertical-align: middle;\n    }\n\n    .dataframe tbody tr th {\n        vertical-align: top;\n    }\n\n    .dataframe thead th {\n        text-align: right;\n    }\n</style>\n<table border=\"1\" class=\"dataframe\">\n  <thead>\n    <tr style=\"text-align: right;\">\n      <th></th>\n      <th>text</th>\n      <th>rating</th>\n    </tr>\n  </thead>\n  <tbody>\n    <tr>\n      <th>0</th>\n      <td>несколько месяцев Смартфон, действительно очен...</td>\n      <td>5</td>\n    </tr>\n    <tr>\n      <th>1</th>\n      <td>менее месяца яркость экрана, 5000 мач, удобно ...</td>\n      <td>5</td>\n    </tr>\n    <tr>\n      <th>2</th>\n      <td>менее месяца Удобно лежит в руке, отличные фот...</td>\n      <td>5</td>\n    </tr>\n    <tr>\n      <th>3</th>\n      <td>менее месяца Обычный смартфон, хорошее качеств...</td>\n      <td>4</td>\n    </tr>\n    <tr>\n      <th>4</th>\n      <td>несколько месяцев Хорошая связь. 4g_3g мобильн...</td>\n      <td>4</td>\n    </tr>\n  </tbody>\n</table>\n</div>"
     },
     "execution_count": 7,
     "metadata": {},
     "output_type": "execute_result"
    }
   ],
   "source": [
    "train.head()"
   ],
   "metadata": {
    "collapsed": false,
    "pycharm": {
     "name": "#%%\n"
    }
   }
  },
  {
   "cell_type": "code",
   "execution_count": 8,
   "outputs": [
    {
     "data": {
      "text/plain": "Text(0, 0.5, 'Количество оценок')"
     },
     "execution_count": 8,
     "metadata": {},
     "output_type": "execute_result"
    },
    {
     "data": {
      "text/plain": "<Figure size 720x576 with 1 Axes>",
      "image/png": "[encoded data removed]"
     },
     "metadata": {
      "needs_background": "light"
     },
     "output_type": "display_data"
    }
   ],
   "source": [
    "countplt, ax = plt.subplots(figsize = (10,8))\n",
    "ax = sns.countplot(data=train, x='rating')\n",
    "ax.set_title('Распределение оценок', fontsize=20)\n",
    "ax.set_xlabel('Оценка', fontsize=20)\n",
    "ax.set_ylabel('Количество оценок', fontsize=20)"
   ],
   "metadata": {
    "collapsed": false,
    "pycharm": {
     "name": "#%%\n"
    }
   }
  },
  {
   "cell_type": "code",
   "execution_count": 9,
   "outputs": [],
   "source": [
    "train['length'] = train['text'].apply(len)"
   ],
   "metadata": {
    "collapsed": false,
    "pycharm": {
     "name": "#%%\n"
    }
   }
  },
  {
   "cell_type": "code",
   "execution_count": 10,
   "outputs": [
    {
     "data": {
      "text/plain": "[<matplotlib.axis.XTick at 0x2363afe0d30>,\n <matplotlib.axis.XTick at 0x2363afe0d00>,\n <matplotlib.axis.XTick at 0x2363d36de40>,\n <matplotlib.axis.XTick at 0x2363c14c040>,\n <matplotlib.axis.XTick at 0x2363c14c790>,\n <matplotlib.axis.XTick at 0x2363c14cee0>,\n <matplotlib.axis.XTick at 0x2363c14d630>,\n <matplotlib.axis.XTick at 0x2363c14dd80>,\n <matplotlib.axis.XTick at 0x2363afe0430>,\n <matplotlib.axis.XTick at 0x2363c14d660>,\n <matplotlib.axis.XTick at 0x2363c14c2e0>,\n <matplotlib.axis.XTick at 0x2363c14e950>,\n <matplotlib.axis.XTick at 0x2363c14f0a0>]"
     },
     "execution_count": 10,
     "metadata": {},
     "output_type": "execute_result"
    },
    {
     "data": {
      "text/plain": "<Figure size 720x576 with 1 Axes>",
      "image/png": "[encoded data removed]"
     },
     "metadata": {
      "needs_background": "light"
     },
     "output_type": "display_data"
    }
   ],
   "source": [
    "hist, ax = plt.subplots(figsize = (10,8))\n",
    "ax = train.length.plot(kind='hist', bins=np.arange(0, 5000, 400))\n",
    "ax.set_title('Длина отзывов')\n",
    "ax.set_xlabel('Количество символов в отзыве')\n",
    "ax.set_ylabel('Количество отзывов')\n",
    "ax.set_xticks(np.arange(0, 5000, 400))"
   ],
   "metadata": {
    "collapsed": false,
    "pycharm": {
     "name": "#%%\n"
    }
   }
  },
  {
   "cell_type": "code",
   "execution_count": 11,
   "outputs": [
    {
     "data": {
      "text/plain": "rating       5.0\nlength    1629.0\nName: 0.95, dtype: float64"
     },
     "execution_count": 11,
     "metadata": {},
     "output_type": "execute_result"
    }
   ],
   "source": [
    "train.quantile(0.95)"
   ],
   "metadata": {
    "collapsed": false,
    "pycharm": {
     "name": "#%%\n"
    }
   }
  },
  {
   "cell_type": "markdown",
   "source": [
    "# Удаляем лишнее из отзывов"
   ],
   "metadata": {
    "collapsed": false
   }
  },
  {
   "cell_type": "code",
   "execution_count": 12,
   "outputs": [],
   "source": [
    "def cleaning(text):\n",
    "    try:\n",
    "        text = re.sub(r'Достоинства', ' ', text)\n",
    "        text = re.sub(r'Недостатки', ' ', text)\n",
    "        text = re.sub(r'Комментарий', ' ', text)\n",
    "        text = re.sub(r'менее месяца', ' ', text)\n",
    "        text = re.sub(r'более года', ' ', text)\n",
    "        text = re.sub(r'несколько месяцев', ' ', text)\n",
    "        text = ' '.join(text.split())\n",
    "        return text\n",
    "    except:\n",
    "        return text"
   ],
   "metadata": {
    "collapsed": false,
    "pycharm": {
     "name": "#%%\n"
    }
   }
  },
  {
   "cell_type": "code",
   "execution_count": 13,
   "outputs": [],
   "source": [
    "train['text'] = train.apply(lambda x: cleaning(x['text']), axis=1)\n",
    "train['label'] = train['rating'].apply(lambda x: int(x == 5))"
   ],
   "metadata": {
    "collapsed": false,
    "pycharm": {
     "name": "#%%\n"
    }
   }
  },
  {
   "cell_type": "code",
   "execution_count": 14,
   "outputs": [
    {
     "data": {
      "text/plain": "Text(0, 0.5, 'Количество оценок')"
     },
     "execution_count": 14,
     "metadata": {},
     "output_type": "execute_result"
    },
    {
     "data": {
      "text/plain": "<Figure size 720x576 with 1 Axes>",
      "image/png": "[encoded data removed]"
     },
     "metadata": {
      "needs_background": "light"
     },
     "output_type": "display_data"
    }
   ],
   "source": [
    "countplt, ax = plt.subplots(figsize = (10,8))\n",
    "ax = sns.countplot(data=train, x='label')\n",
    "ax.set_title('Распределение оценок', fontsize=20)\n",
    "ax.set_xlabel('Оценка', fontsize=20)\n",
    "ax.set_ylabel('Количество оценок', fontsize=20)"
   ],
   "metadata": {
    "collapsed": false,
    "pycharm": {
     "name": "#%%\n"
    }
   }
  },
  {
   "cell_type": "markdown",
   "source": [
    "# Балансируем выборку"
   ],
   "metadata": {
    "collapsed": false
   }
  },
  {
   "cell_type": "code",
   "execution_count": 15,
   "outputs": [],
   "source": [
    "rus = RandomUnderSampler()\n",
    "X_resampled, y_resampled = rus.fit_resample(pd.DataFrame(train['text']), train['label'])\n",
    "X_resampled, y_resampled = X_resampled.values.flatten(), y_resampled.values.flatten()"
   ],
   "metadata": {
    "collapsed": false,
    "pycharm": {
     "name": "#%%\n"
    }
   }
  },
  {
   "cell_type": "code",
   "execution_count": 16,
   "outputs": [
    {
     "data": {
      "text/plain": "Text(0, 0.5, 'Количество оценок')"
     },
     "execution_count": 16,
     "metadata": {},
     "output_type": "execute_result"
    },
    {
     "data": {
      "text/plain": "<Figure size 720x576 with 1 Axes>",
      "image/png": "[encoded data removed]"
     },
     "metadata": {
      "needs_background": "light"
     },
     "output_type": "display_data"
    }
   ],
   "source": [
    "train = pd.DataFrame({'text': X_resampled, 'label' :y_resampled})\n",
    "countplt, ax = plt.subplots(figsize = (10,8))\n",
    "ax = sns.countplot(data=train, x='label')\n",
    "ax.set_title('Распределение оценок', fontsize=20)\n",
    "ax.set_xlabel('Оценка', fontsize=20)\n",
    "ax.set_ylabel('Количество оценок', fontsize=20)"
   ],
   "metadata": {
    "collapsed": false,
    "pycharm": {
     "name": "#%%\n"
    }
   }
  },
  {
   "cell_type": "markdown",
   "source": [
    "# Производим подбор оптимальных гиперпараметров и модели"
   ],
   "metadata": {
    "collapsed": false
   }
  },
  {
   "cell_type": "code",
   "execution_count": 17,
   "outputs": [],
   "source": [
    "def make_pipeline(vectorizer, transformer, classifier):\n",
    "    return Pipeline([\n",
    "        ('vectorizer', vectorizer),\n",
    "        ('transformer', transformer),\n",
    "        ('classifier', classifier)\n",
    "    ])"
   ],
   "metadata": {
    "collapsed": false,
    "pycharm": {
     "name": "#%%\n"
    }
   }
  },
  {
   "cell_type": "code",
   "execution_count": 15,
   "outputs": [],
   "source": [
    "def make_estimator(classifier, params_grid, scorer, data, labels):\n",
    "    pipeline = make_pipeline(TfidfVectorizer(), TfidfTransformer(), classifier)\n",
    "    grid_cv = RandomizedSearchCV(pipeline, params_grid, scoring=scorer, cv=5, random_state=42, n_iter=100, verbose=True,\n",
    "                                 n_jobs=-2)\n",
    "    grid_cv.fit(data, labels)\n",
    "    return grid_cv"
   ],
   "metadata": {
    "collapsed": false,
    "pycharm": {
     "name": "#%%\n"
    }
   }
  },
  {
   "cell_type": "code",
   "execution_count": 16,
   "outputs": [],
   "source": [
    "parameters_grid_vectorizer = {\n",
    "    'vectorizer__ngram_range': [(1, 2), (1, 3)],\n",
    "    'vectorizer__min_df': [1, 2, 3],\n",
    "    'vectorizer__max_df': [0.95, 1.0],\n",
    "}"
   ],
   "metadata": {
    "collapsed": false,
    "pycharm": {
     "name": "#%%\n"
    }
   }
  },
  {
   "cell_type": "code",
   "execution_count": 17,
   "outputs": [],
   "source": [
    "parameters_grid_transformer = {\n",
    "    'transformer__use_idf': [False, True],\n",
    "    'transformer__sublinear_tf': [True, False],\n",
    "    'transformer__smooth_idf': [False, True],\n",
    "    'transformer__norm': ['l2', 'l1']\n",
    "}"
   ],
   "metadata": {
    "collapsed": false,
    "pycharm": {
     "name": "#%%\n"
    }
   }
  },
  {
   "cell_type": "code",
   "execution_count": 18,
   "outputs": [],
   "source": [
    "parameters_grid_lr = {\n",
    "    'classifier__C': [0.8, 0.9, 1.1, 1.2],\n",
    "    'classifier__max_iter': [45, 50, 75, 90],\n",
    "    'classifier__solver': ['newton-cg', 'lbfgs', 'sag'],\n",
    "    'classifier__penalty': ['l2'],\n",
    "}\n",
    "parameters_grid_lsvc = {\n",
    "    'classifier__loss': ['hinge', 'squared_hinge'],\n",
    "    'classifier__max_iter': np.arange(200, 1000, 200),\n",
    "    'classifier__tol': [1e-5, 1e-4, 1e-3],\n",
    "    'classifier__C': [0.7, 0.9, 1.1, 1.3]\n",
    "}\n",
    "parameters_grid_svc = {\n",
    "    'classifier__C': [1, 10, 100, 1000],\n",
    "    'classifier__gamma': [1, 0.1, 0.001, 0.0001],\n",
    "    'classifier__kernel': ['linear', 'rbf']\n",
    "}\n",
    "parameters_grid_lgb = {\n",
    "    'classifier__num_leaves': (10, 22, 31, 40),\n",
    "    'classifier__learning_rate': (0, 0.01, 0.05, 0.1),\n",
    "    'classifier__colsample_bytree': (0.7, 0.8, 0.9, 1)\n",
    "}\n",
    "parameters_grid_rf = {\n",
    "    'classifier__n_estimators': [150, 200, 250],\n",
    "    'classifier__max_features': ['auto', 'sqrt', 'log2'],\n",
    "    'classifier__max_depth': [8, 10, 12, 16, 20, 24],\n",
    "    'classifier__criterion': ['gini', 'entropy']\n",
    "}"
   ],
   "metadata": {
    "collapsed": false,
    "pycharm": {
     "name": "#%%\n"
    }
   }
  },
  {
   "cell_type": "code",
   "execution_count": 19,
   "outputs": [
    {
     "name": "stderr",
     "output_type": "stream",
     "text": [
      "UsageError: Line magic function `%` not found.\n"
     ]
    }
   ],
   "source": [
    "%%time\n",
    "LGB_grid_search = make_estimator(lgb.LGBMClassifier(),\n",
    "                                 {**parameters_grid_vectorizer, **parameters_grid_transformer, **parameters_grid_lgb},\n",
    "                                 'accuracy',\n",
    "                                 np.concatenate([X_resampled[:900], X_resampled[18000:18900]]),\n",
    "                                 np.concatenate([y_resampled[:900], y_resampled[18000:18900]]))"
   ],
   "metadata": {
    "collapsed": false,
    "pycharm": {
     "name": "#%%\n"
    }
   }
  },
  {
   "cell_type": "code",
   "execution_count": 45,
   "outputs": [
    {
     "name": "stdout",
     "output_type": "stream",
     "text": [
      "0.723888888888889 {'vectorizer__ngram_range': (1, 3), 'vectorizer__min_df': 3, 'vectorizer__max_df': 1.0, 'transformer__use_idf': False, 'transformer__sublinear_tf': False, 'transformer__smooth_idf': False, 'transformer__norm': 'l2', 'classifier__num_leaves': 40, 'classifier__learning_rate': 0.05, 'classifier__colsample_bytree': 1}\n"
     ]
    }
   ],
   "source": [
    "print(LGB_grid_search.best_score_, LGB_grid_search.best_params_)"
   ],
   "metadata": {
    "collapsed": false,
    "pycharm": {
     "name": "#%%\n"
    }
   }
  },
  {
   "cell_type": "code",
   "execution_count": 28,
   "outputs": [
    {
     "name": "stdout",
     "output_type": "stream",
     "text": [
      "Fitting 5 folds for each of 100 candidates, totalling 500 fits\n",
      "CPU times: total: 4.36 s\n",
      "Wall time: 1min 11s\n"
     ]
    }
   ],
   "source": [
    "%%time\n",
    "LR_grid_search = make_estimator(LogisticRegression(random_state=42),\n",
    "                                {**parameters_grid_vectorizer, **parameters_grid_transformer, **parameters_grid_lr},\n",
    "                                'accuracy',\n",
    "                                np.concatenate([X_resampled[:900], X_resampled[18000:18900]]),\n",
    "                                np.concatenate([y_resampled[:900], y_resampled[18000:18900]]))"
   ],
   "metadata": {
    "collapsed": false,
    "pycharm": {
     "name": "#%%\n"
    }
   }
  },
  {
   "cell_type": "code",
   "execution_count": 29,
   "outputs": [
    {
     "name": "stdout",
     "output_type": "stream",
     "text": [
      "0.7744444444444444 {'vectorizer__ngram_range': (1, 2), 'vectorizer__min_df': 2, 'vectorizer__max_df': 0.95, 'transformer__use_idf': True, 'transformer__sublinear_tf': False, 'transformer__smooth_idf': True, 'transformer__norm': 'l2', 'classifier__solver': 'sag', 'classifier__penalty': 'l2', 'classifier__max_iter': 90, 'classifier__C': 0.9}\n"
     ]
    }
   ],
   "source": [
    "print(LR_grid_search.best_score_, LR_grid_search.best_params_)"
   ],
   "metadata": {
    "collapsed": false,
    "pycharm": {
     "name": "#%%\n"
    }
   }
  },
  {
   "cell_type": "code",
   "execution_count": 46,
   "outputs": [
    {
     "name": "stdout",
     "output_type": "stream",
     "text": [
      "Fitting 5 folds for each of 100 candidates, totalling 500 fits\n",
      "CPU times: total: 3.31 s\n",
      "Wall time: 50.1 s\n"
     ]
    }
   ],
   "source": [
    "% % time\n",
    "LSVC_grid_search = make_estimator(LinearSVC(random_state=42),\n",
    "                                  {**parameters_grid_vectorizer, **parameters_grid_transformer, **parameters_grid_lsvc},\n",
    "                                  'accuracy',\n",
    "                                  np.concatenate([X_resampled[:900], X_resampled[18000:18900]]),\n",
    "                                  np.concatenate([y_resampled[:900], y_resampled[18000:18900]]))"
   ],
   "metadata": {
    "collapsed": false,
    "pycharm": {
     "name": "#%%\n"
    }
   }
  },
  {
   "cell_type": "code",
   "execution_count": 47,
   "outputs": [
    {
     "name": "stdout",
     "output_type": "stream",
     "text": [
      "0.7738888888888888 {'vectorizer__ngram_range': (1, 2), 'vectorizer__min_df': 1, 'vectorizer__max_df': 0.95, 'transformer__use_idf': True, 'transformer__sublinear_tf': True, 'transformer__smooth_idf': True, 'transformer__norm': 'l2', 'classifier__tol': 0.001, 'classifier__max_iter': 200, 'classifier__loss': 'squared_hinge', 'classifier__C': 1.1}\n"
     ]
    }
   ],
   "source": [
    "print(LSVC_grid_search.best_score_, LSVC_grid_search.best_params_)"
   ],
   "metadata": {
    "collapsed": false,
    "pycharm": {
     "name": "#%%\n"
    }
   }
  },
  {
   "cell_type": "code",
   "execution_count": 53,
   "outputs": [
    {
     "name": "stdout",
     "output_type": "stream",
     "text": [
      "Fitting 5 folds for each of 100 candidates, totalling 500 fits\n",
      "CPU times: total: 5.42 s\n",
      "Wall time: 2min 42s\n"
     ]
    }
   ],
   "source": [
    "% % time\n",
    "SVC_grid_search = make_estimator(SVC(random_state=42),\n",
    "                                 {**parameters_grid_vectorizer, **parameters_grid_transformer, **parameters_grid_svc},\n",
    "                                 'accuracy',\n",
    "                                 np.concatenate([X_resampled[:900], X_resampled[18000:18900]]),\n",
    "                                 np.concatenate([y_resampled[:900], y_resampled[18000:18900]]))"
   ],
   "metadata": {
    "collapsed": false,
    "pycharm": {
     "name": "#%%\n"
    }
   }
  },
  {
   "cell_type": "code",
   "execution_count": 54,
   "outputs": [
    {
     "name": "stdout",
     "output_type": "stream",
     "text": [
      "0.7672222222222221 {'vectorizer__ngram_range': (1, 3), 'vectorizer__min_df': 1, 'vectorizer__max_df': 1.0, 'transformer__use_idf': True, 'transformer__sublinear_tf': True, 'transformer__smooth_idf': False, 'transformer__norm': 'l2', 'classifier__kernel': 'linear', 'classifier__gamma': 0.001, 'classifier__C': 1}\n"
     ]
    }
   ],
   "source": [
    "print(SVC_grid_search.best_score_, SVC_grid_search.best_params_)"
   ],
   "metadata": {
    "collapsed": false,
    "pycharm": {
     "name": "#%%\n"
    }
   }
  },
  {
   "cell_type": "code",
   "execution_count": 64,
   "outputs": [
    {
     "name": "stdout",
     "output_type": "stream",
     "text": [
      "Fitting 5 folds for each of 100 candidates, totalling 500 fits\n",
      "CPU times: total: 3.59 s\n",
      "Wall time: 1min 59s\n"
     ]
    }
   ],
   "source": [
    "%%time\n",
    "RF_grid_search = make_estimator(RandomForestClassifier(random_state=42),\n",
    "                                {**parameters_grid_vectorizer, **parameters_grid_transformer, **parameters_grid_rf},\n",
    "                                'accuracy',\n",
    "                                np.concatenate([X_resampled[:900], X_resampled[18000:18900]]),\n",
    "                                np.concatenate([y_resampled[:900], y_resampled[18000:18900]]))"
   ],
   "metadata": {
    "collapsed": false,
    "pycharm": {
     "name": "#%%\n"
    }
   }
  },
  {
   "cell_type": "code",
   "execution_count": 65,
   "outputs": [
    {
     "name": "stdout",
     "output_type": "stream",
     "text": [
      "0.7005555555555556 {'vectorizer__ngram_range': (1, 2), 'vectorizer__min_df': 2, 'vectorizer__max_df': 1.0, 'transformer__use_idf': False, 'transformer__sublinear_tf': True, 'transformer__smooth_idf': True, 'transformer__norm': 'l2', 'classifier__n_estimators': 150, 'classifier__max_features': 'sqrt', 'classifier__max_depth': 20, 'classifier__criterion': 'entropy'}\n"
     ]
    }
   ],
   "source": [
    "print(RF_grid_search.best_score_, RF_grid_search.best_params_)"
   ],
   "metadata": {
    "collapsed": false,
    "pycharm": {
     "name": "#%%\n"
    }
   }
  },
  {
   "cell_type": "markdown",
   "source": [
    "# Обучаем модель"
   ],
   "metadata": {
    "collapsed": false
   }
  },
  {
   "cell_type": "code",
   "execution_count": 18,
   "outputs": [
    {
     "name": "stdout",
     "output_type": "stream",
     "text": [
      "CPU times: total: 7.89 s\n",
      "Wall time: 8.2 s\n"
     ]
    },
    {
     "data": {
      "text/plain": "Pipeline(steps=[('vectorizer',\n                 CountVectorizer(max_df=0.95, min_df=2, ngram_range=(1, 2))),\n                ('transformer', TfidfTransformer(smooth_idf=False)),\n                ('classifier',\n                 LogisticRegression(C=0.9, max_iter=90, solver='sag'))])"
     },
     "execution_count": 18,
     "metadata": {},
     "output_type": "execute_result"
    }
   ],
   "source": [
    "%%time\n",
    "LR = make_pipeline(CountVectorizer(ngram_range=(1, 2), min_df=2, max_df=0.95),\n",
    "                   TfidfTransformer(smooth_idf=False),\n",
    "                   LogisticRegression(solver='sag', max_iter=90, C=0.9))\n",
    "LR.fit(X_resampled, y_resampled)"
   ],
   "metadata": {
    "collapsed": false,
    "pycharm": {
     "name": "#%%\n"
    }
   }
  },
  {
   "cell_type": "code",
   "execution_count": 32,
   "outputs": [],
   "source": [
    "predLR = LR.predict(X_test)"
   ],
   "metadata": {
    "collapsed": false,
    "pycharm": {
     "name": "#%%\n"
    }
   }
  },
  {
   "cell_type": "code",
   "execution_count": 33,
   "outputs": [
    {
     "name": "stdout",
     "output_type": "stream",
     "text": [
      "CPU times: total: 2min 57s\n",
      "Wall time: 39.1 s\n"
     ]
    },
    {
     "data": {
      "text/plain": "Pipeline(steps=[('vectorizer', CountVectorizer(min_df=3, ngram_range=(1, 3))),\n                ('transformer', TfidfTransformer(smooth_idf=False)),\n                ('classifier',\n                 LGBMClassifier(colsample_bytree=1, learning_rate=0.05,\n                                num_leaves=40))])"
     },
     "execution_count": 33,
     "metadata": {},
     "output_type": "execute_result"
    }
   ],
   "source": [
    "%%time\n",
    "LGB = make_pipeline(CountVectorizer(ngram_range=(1, 3), min_df=3, max_df=1.0),\n",
    "                   TfidfTransformer(smooth_idf=False),\n",
    "                   lgb.LGBMClassifier(num_leaves=40, learning_rate=0.05, colsample_bytree=1))\n",
    "LGB.fit(X_resampled, y_resampled)"
   ],
   "metadata": {
    "collapsed": false,
    "pycharm": {
     "name": "#%%\n"
    }
   }
  },
  {
   "cell_type": "code",
   "execution_count": 34,
   "outputs": [],
   "source": [
    "predLGB = LGB.predict(X_test)"
   ],
   "metadata": {
    "collapsed": false,
    "pycharm": {
     "name": "#%%\n"
    }
   }
  },
  {
   "cell_type": "code",
   "execution_count": 37,
   "outputs": [
    {
     "name": "stdout",
     "output_type": "stream",
     "text": [
      "CPU times: total: 11.2 s\n",
      "Wall time: 11.7 s\n"
     ]
    },
    {
     "data": {
      "text/plain": "Pipeline(steps=[('vectorizer',\n                 CountVectorizer(max_df=0.95, ngram_range=(1, 2))),\n                ('transformer', TfidfTransformer()),\n                ('classifier', LinearSVC(C=1.1, max_iter=200, tol=0.001))])"
     },
     "execution_count": 37,
     "metadata": {},
     "output_type": "execute_result"
    }
   ],
   "source": [
    "%%time\n",
    "LSVC = make_pipeline(CountVectorizer(ngram_range=(1, 2), min_df=1, max_df=0.95),\n",
    "                    TfidfTransformer(smooth_idf=True),\n",
    "                    LinearSVC(tol=0.001, max_iter=200, loss='squared_hinge', C=1.1))\n",
    "LSVC.fit(X_resampled, y_resampled)"
   ],
   "metadata": {
    "collapsed": false,
    "pycharm": {
     "name": "#%%\n"
    }
   }
  },
  {
   "cell_type": "code",
   "execution_count": 38,
   "outputs": [],
   "source": [
    "predLSVC = LSVC.predict(X_test)"
   ],
   "metadata": {
    "collapsed": false,
    "pycharm": {
     "name": "#%%\n"
    }
   }
  },
  {
   "cell_type": "code",
   "execution_count": 41,
   "outputs": [
    {
     "name": "stdout",
     "output_type": "stream",
     "text": [
      "CPU times: total: 38min 31s\n",
      "Wall time: 38min 44s\n"
     ]
    },
    {
     "data": {
      "text/plain": "Pipeline(steps=[('vectorizer', CountVectorizer(ngram_range=(1, 3))),\n                ('transformer', TfidfTransformer(smooth_idf=False)),\n                ('classifier', SVC(C=1, gamma=0.001, kernel='linear'))])"
     },
     "execution_count": 41,
     "metadata": {},
     "output_type": "execute_result"
    }
   ],
   "source": [
    "%%time\n",
    "SVC = make_pipeline(CountVectorizer(ngram_range=(1, 3), min_df=1, max_df=1.0),\n",
    "                     TfidfTransformer(smooth_idf=False),\n",
    "                     SVC(kernel='linear', gamma=0.001, C=1))\n",
    "SVC.fit(X_resampled, y_resampled)"
   ],
   "metadata": {
    "collapsed": false,
    "pycharm": {
     "name": "#%%\n"
    }
   }
  },
  {
   "cell_type": "code",
   "execution_count": 42,
   "outputs": [],
   "source": [
    "predSVC = SVC.predict(X_test)"
   ],
   "metadata": {
    "collapsed": false,
    "pycharm": {
     "name": "#%%\n"
    }
   }
  },
  {
   "cell_type": "code",
   "execution_count": 44,
   "outputs": [
    {
     "name": "stdout",
     "output_type": "stream",
     "text": [
      "CPU times: total: 16.3 s\n",
      "Wall time: 16.5 s\n"
     ]
    },
    {
     "data": {
      "text/plain": "Pipeline(steps=[('vectorizer', CountVectorizer(min_df=2, ngram_range=(1, 2))),\n                ('transformer', TfidfTransformer()),\n                ('classifier',\n                 RandomForestClassifier(criterion='entropy', max_depth=20,\n                                        max_features='sqrt',\n                                        n_estimators=150))])"
     },
     "execution_count": 44,
     "metadata": {},
     "output_type": "execute_result"
    }
   ],
   "source": [
    "%%time\n",
    "RF = make_pipeline(CountVectorizer(ngram_range=(1, 2), min_df=2, max_df=1.0),\n",
    "                    TfidfTransformer(smooth_idf=True),\n",
    "                    RandomForestClassifier(n_estimators=150, max_features='sqrt', max_depth=20, criterion='entropy'))\n",
    "RF.fit(X_resampled, y_resampled)"
   ],
   "metadata": {
    "collapsed": false,
    "pycharm": {
     "name": "#%%\n"
    }
   }
  },
  {
   "cell_type": "code",
   "execution_count": 45,
   "outputs": [],
   "source": [
    "predRF = RF.predict(X_test)"
   ],
   "metadata": {
    "collapsed": false,
    "pycharm": {
     "name": "#%%\n"
    }
   }
  },
  {
   "cell_type": "code",
   "execution_count": 48,
   "outputs": [],
   "source": [
    "Id = range(0, 100)\n",
    "submission = pd.DataFrame({\"Id\": Id, \"y\": pd.Series(predLR).apply(lambda x: 'neg' if x == 0 else 'pos')})\n",
    "submission.to_csv('submission.csv', index=False)"
   ],
   "metadata": {
    "collapsed": false,
    "pycharm": {
     "name": "#%%\n"
    }
   }
  },
  {
   "cell_type": "markdown",
   "source": [
    "# Сохраняем модель"
   ],
   "metadata": {
    "collapsed": false
   }
  },
  {
   "cell_type": "code",
   "execution_count": 19,
   "outputs": [],
   "source": [
    "import pickle\n",
    "\n",
    "with open('my_LR_classifier.pkl', 'wb') as f:\n",
    "    pickle.dump(LR, f)"
   ],
   "metadata": {
    "collapsed": false,
    "pycharm": {
     "name": "#%%\n"
    }
   }
  },
  {
   "cell_type": "code",
   "execution_count": null,
   "outputs": [],
   "source": [],
   "metadata": {
    "collapsed": false,
    "pycharm": {
     "name": "#%%\n"
    }
   }
  }
 ],
 "metadata": {
  "kernelspec": {
   "display_name": "Python 3",
   "language": "python",
   "name": "python3"
  },
  "language_info": {
   "codemirror_mode": {
    "name": "ipython",
    "version": 2
   },
   "file_extension": ".py",
   "mimetype": "text/x-python",
   "name": "python",
   "nbconvert_exporter": "python",
   "pygments_lexer": "ipython2",
   "version": "2.7.6"
  }
 },
 "nbformat": 4,
 "nbformat_minor": 0
}