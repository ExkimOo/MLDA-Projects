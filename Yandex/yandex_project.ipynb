{
 "cells": [
  {
   "cell_type": "code",
   "execution_count": 90,
   "metadata": {
    "collapsed": true
   },
   "outputs": [
    {
     "name": "stderr",
     "output_type": "stream",
     "text": [
      "[nltk_data] Downloading package stopwords to\n",
      "[nltk_data]     C:\\Users\\Egor\\AppData\\Roaming\\nltk_data...\n",
      "[nltk_data]   Package stopwords is already up-to-date!\n",
      "[nltk_data] Downloading package punkt to\n",
      "[nltk_data]     C:\\Users\\Egor\\AppData\\Roaming\\nltk_data...\n",
      "[nltk_data]   Package punkt is already up-to-date!\n"
     ]
    }
   ],
   "source": [
    "import codecs\n",
    "from bs4 import BeautifulSoup\n",
    "import re\n",
    "import numpy as np\n",
    "import pandas as pd\n",
    "import nltk\n",
    "from nltk.tokenize import word_tokenize\n",
    "from nltk.corpus import stopwords\n",
    "\n",
    "nltk.download('stopwords')\n",
    "nltk.download('punkt')\n",
    "from sklearn.linear_model import LogisticRegression\n",
    "from sklearn.ensemble import RandomForestClassifier\n",
    "from sklearn.svm import SVC, LinearSVC\n",
    "from sklearn.pipeline import Pipeline\n",
    "from sklearn.model_selection import RandomizedSearchCV, cross_val_score, train_test_split\n",
    "from sklearn.feature_extraction.text import TfidfVectorizer, TfidfTransformer, CountVectorizer\n",
    "from imblearn.under_sampling import RandomUnderSampler"
   ]
  },
  {
   "cell_type": "markdown",
   "source": [
    "# Смотрим на тестовые данные"
   ],
   "metadata": {
    "collapsed": false
   }
  },
  {
   "cell_type": "code",
   "execution_count": 91,
   "outputs": [],
   "source": [
    "with codecs.open('test.csv', 'r', encoding='utf-8') as f:\n",
    "    test_text = f.read()\n",
    "    soup = BeautifulSoup(test_text, 'html.parser')\n",
    "    test_reviews = soup.findAll('review')\n",
    "    test_list = [test_review.text for test_review in test_reviews]"
   ],
   "metadata": {
    "collapsed": false,
    "pycharm": {
     "name": "#%%\n"
    }
   }
  },
  {
   "cell_type": "code",
   "execution_count": 92,
   "outputs": [
    {
     "data": {
      "text/plain": "                                                 text\n0   Ужасно слабый аккумулятор, это основной минус ...\n1   ценанадежность-неубиваемостьдолго держит батар...\n2   подробнее в комментариях\\nК сожалению, факт по...\n3   я любительница громкой музыки. Тише телефона у...\n4   Дата выпуска - 2011 г, емкость - 1430 mAh, тех...\n..                                                ...\n95  Нет передней камеры, внутренняя память очень м...\n96  Звук при прослушивание музыки хороший,не глючи...\n97  Очень маленькая память забита вшитыми и соверш...\n98  Удобный корпус,стандартное меню нокиа,камера д...\n99  ПО, камера, отсутствие выбора приложение, нево...\n\n[100 rows x 1 columns]",
      "text/html": "<div>\n<style scoped>\n    .dataframe tbody tr th:only-of-type {\n        vertical-align: middle;\n    }\n\n    .dataframe tbody tr th {\n        vertical-align: top;\n    }\n\n    .dataframe thead th {\n        text-align: right;\n    }\n</style>\n<table border=\"1\" class=\"dataframe\">\n  <thead>\n    <tr style=\"text-align: right;\">\n      <th></th>\n      <th>text</th>\n    </tr>\n  </thead>\n  <tbody>\n    <tr>\n      <th>0</th>\n      <td>Ужасно слабый аккумулятор, это основной минус ...</td>\n    </tr>\n    <tr>\n      <th>1</th>\n      <td>ценанадежность-неубиваемостьдолго держит батар...</td>\n    </tr>\n    <tr>\n      <th>2</th>\n      <td>подробнее в комментариях\\nК сожалению, факт по...</td>\n    </tr>\n    <tr>\n      <th>3</th>\n      <td>я любительница громкой музыки. Тише телефона у...</td>\n    </tr>\n    <tr>\n      <th>4</th>\n      <td>Дата выпуска - 2011 г, емкость - 1430 mAh, тех...</td>\n    </tr>\n    <tr>\n      <th>...</th>\n      <td>...</td>\n    </tr>\n    <tr>\n      <th>95</th>\n      <td>Нет передней камеры, внутренняя память очень м...</td>\n    </tr>\n    <tr>\n      <th>96</th>\n      <td>Звук при прослушивание музыки хороший,не глючи...</td>\n    </tr>\n    <tr>\n      <th>97</th>\n      <td>Очень маленькая память забита вшитыми и соверш...</td>\n    </tr>\n    <tr>\n      <th>98</th>\n      <td>Удобный корпус,стандартное меню нокиа,камера д...</td>\n    </tr>\n    <tr>\n      <th>99</th>\n      <td>ПО, камера, отсутствие выбора приложение, нево...</td>\n    </tr>\n  </tbody>\n</table>\n<p>100 rows × 1 columns</p>\n</div>"
     },
     "execution_count": 92,
     "metadata": {},
     "output_type": "execute_result"
    }
   ],
   "source": [
    "test = pd.DataFrame(test_list, columns=['text'])\n",
    "test"
   ],
   "metadata": {
    "collapsed": false,
    "pycharm": {
     "name": "#%%\n"
    }
   }
  },
  {
   "cell_type": "markdown",
   "source": [
    "# Загружаем данные для обучения"
   ],
   "metadata": {
    "collapsed": false
   }
  },
  {
   "cell_type": "code",
   "execution_count": 93,
   "outputs": [],
   "source": [
    "X_test = test['text'].values"
   ],
   "metadata": {
    "collapsed": false,
    "pycharm": {
     "name": "#%%\n"
    }
   }
  },
  {
   "cell_type": "code",
   "execution_count": 94,
   "outputs": [],
   "source": [
    "train = pd.read_json('train_yandex_market.json', lines=True, encoding=\"utf8\")"
   ],
   "metadata": {
    "collapsed": false,
    "pycharm": {
     "name": "#%%\n"
    }
   }
  },
  {
   "cell_type": "code",
   "execution_count": 95,
   "outputs": [
    {
     "data": {
      "text/plain": "5    46100\n4     7957\n3     3850\n1     3564\n2     2017\nName: rating, dtype: int64"
     },
     "execution_count": 95,
     "metadata": {},
     "output_type": "execute_result"
    }
   ],
   "source": [
    "train['rating'].value_counts()"
   ],
   "metadata": {
    "collapsed": false,
    "pycharm": {
     "name": "#%%\n"
    }
   }
  },
  {
   "cell_type": "markdown",
   "source": [
    "# Удаляем лишнее из отзывов"
   ],
   "metadata": {
    "collapsed": false
   }
  },
  {
   "cell_type": "code",
   "execution_count": 96,
   "outputs": [],
   "source": [
    "def cleaning(text):\n",
    "    try:\n",
    "        text = re.sub(r'Достоинства', ' ', text)\n",
    "        text = re.sub(r'Недостатки', ' ', text)\n",
    "        text = re.sub(r'Комментарий', ' ', text)\n",
    "        text = re.sub(r'менее месяца', ' ', text)\n",
    "        text = re.sub(r'более года', ' ', text)\n",
    "        text = re.sub(r'несколько месяцев', ' ', text)\n",
    "        text = ' '.join(text.split())\n",
    "        return text\n",
    "    except:\n",
    "        return text"
   ],
   "metadata": {
    "collapsed": false,
    "pycharm": {
     "name": "#%%\n"
    }
   }
  },
  {
   "cell_type": "code",
   "execution_count": 97,
   "outputs": [],
   "source": [
    "train['text'] = train.apply(lambda x: cleaning(x['text']), axis=1)\n",
    "train['label'] = train['rating'].apply(lambda x: int(x == 5))"
   ],
   "metadata": {
    "collapsed": false,
    "pycharm": {
     "name": "#%%\n"
    }
   }
  },
  {
   "cell_type": "markdown",
   "source": [
    "# Балансируем выборку"
   ],
   "metadata": {
    "collapsed": false
   }
  },
  {
   "cell_type": "code",
   "execution_count": 98,
   "outputs": [],
   "source": [
    "rus = RandomUnderSampler()\n",
    "X_resampled, y_resampled = rus.fit_resample(pd.DataFrame(train['text']), train['label'])\n",
    "X_resampled, y_resampled = X_resampled.values.flatten(), y_resampled.values.flatten()"
   ],
   "metadata": {
    "collapsed": false,
    "pycharm": {
     "name": "#%%\n"
    }
   }
  },
  {
   "cell_type": "markdown",
   "source": [
    "# Производим подбор оптимальных гиперпараметров и модели"
   ],
   "metadata": {
    "collapsed": false
   }
  },
  {
   "cell_type": "code",
   "execution_count": 99,
   "outputs": [],
   "source": [
    "def make_pipeline(vectorizer, transformer, classifier):\n",
    "    return Pipeline([\n",
    "        ('vectorizer', vectorizer),\n",
    "        ('transformer', transformer),\n",
    "        ('classifier', classifier)\n",
    "    ])"
   ],
   "metadata": {
    "collapsed": false,
    "pycharm": {
     "name": "#%%\n"
    }
   }
  },
  {
   "cell_type": "code",
   "execution_count": 100,
   "outputs": [],
   "source": [
    "def make_estimator(classifier, params_grid, scorer, data, labels):\n",
    "    pipeline = make_pipeline(CountVectorizer(), TfidfTransformer(), classifier)\n",
    "    grid_cv = RandomizedSearchCV(pipeline, params_grid, scoring=scorer, cv=5, random_state=42, n_iter=100, verbose=True, n_jobs=-2)\n",
    "    grid_cv.fit(data, labels)\n",
    "    return grid_cv"
   ],
   "metadata": {
    "collapsed": false,
    "pycharm": {
     "name": "#%%\n"
    }
   }
  },
  {
   "cell_type": "code",
   "execution_count": 101,
   "outputs": [],
   "source": [
    "parameters_grid_vectorizer = {\n",
    "    'vectorizer__ngram_range': [(1, 2), (1, 3)],\n",
    "    'vectorizer__min_df': [1, 2, 3],\n",
    "    'vectorizer__max_df': [0.95, 1.0],\n",
    "}"
   ],
   "metadata": {
    "collapsed": false,
    "pycharm": {
     "name": "#%%\n"
    }
   }
  },
  {
   "cell_type": "code",
   "execution_count": 102,
   "outputs": [],
   "source": [
    "parameters_grid_transformer = {\n",
    "    'transformer__use_idf': [False, True],\n",
    "    'transformer__sublinear_tf': [True, False],\n",
    "    'transformer__smooth_idf': [False, True],\n",
    "    'transformer__norm': ['l2', 'l1']\n",
    "}"
   ],
   "metadata": {
    "collapsed": false,
    "pycharm": {
     "name": "#%%\n"
    }
   }
  },
  {
   "cell_type": "code",
   "execution_count": 103,
   "outputs": [],
   "source": [
    "#LinearSVC\n",
    "parameters_grid_lsvc = {\n",
    "    'classifier__loss': ['hinge', 'squared_hinge'],\n",
    "    'classifier__max_iter': np.arange(200, 1000, 200),\n",
    "    'classifier__tol': [1e-5, 1e-4, 1e-3],\n",
    "    'classifier__C': [0.7, 0.9, 1.1, 1.3]\n",
    "}\n",
    "parameters_grid_lr = {\n",
    "    'classifier__C' : [0.8, 0.9, 1.1, 1.2],\n",
    "    'classifier__max_iter' : [45, 50, 75, 90],\n",
    "    'classifier__solver' : ['newton-cg', 'lbfgs','sag'],\n",
    "    'classifier__penalty' : ['l2'],\n",
    "}"
   ],
   "metadata": {
    "collapsed": false,
    "pycharm": {
     "name": "#%%\n"
    }
   }
  },
  {
   "cell_type": "code",
   "execution_count": 104,
   "outputs": [
    {
     "name": "stdout",
     "output_type": "stream",
     "text": [
      "Fitting 5 folds for each of 100 candidates, totalling 500 fits\n",
      "CPU times: total: 3.98 s\n",
      "Wall time: 1min 3s\n"
     ]
    }
   ],
   "source": [
    "%%time\n",
    "LR_grid_search = make_estimator(LogisticRegression(random_state=42),\n",
    "                                {**parameters_grid_vectorizer, **parameters_grid_transformer, **parameters_grid_lr},\n",
    "                                'accuracy',\n",
    "                                np.concatenate([X_resampled[:900], X_resampled[18000:18900]]),\n",
    "                                np.concatenate([y_resampled[:900], y_resampled[18000:18900]]))"
   ],
   "metadata": {
    "collapsed": false,
    "pycharm": {
     "name": "#%%\n"
    }
   }
  },
  {
   "cell_type": "code",
   "execution_count": 105,
   "outputs": [
    {
     "name": "stdout",
     "output_type": "stream",
     "text": [
      "0.78 {'vectorizer__ngram_range': (1, 2), 'vectorizer__min_df': 2, 'vectorizer__max_df': 1.0, 'transformer__use_idf': True, 'transformer__sublinear_tf': True, 'transformer__smooth_idf': False, 'transformer__norm': 'l2', 'classifier__solver': 'sag', 'classifier__penalty': 'l2', 'classifier__max_iter': 90, 'classifier__C': 1.1}\n"
     ]
    }
   ],
   "source": [
    "print(LR_grid_search.best_score_, LR_grid_search.best_params_)"
   ],
   "metadata": {
    "collapsed": false,
    "pycharm": {
     "name": "#%%\n"
    }
   }
  },
  {
   "cell_type": "markdown",
   "source": [
    "# Обучаем модель"
   ],
   "metadata": {
    "collapsed": false
   }
  },
  {
   "cell_type": "code",
   "execution_count": 106,
   "outputs": [
    {
     "name": "stdout",
     "output_type": "stream",
     "text": [
      "CPU times: total: 12.9 s\n",
      "Wall time: 12.9 s\n"
     ]
    },
    {
     "data": {
      "text/plain": "Pipeline(steps=[('vectorizer',\n                 CountVectorizer(max_df=0.95, min_df=3, ngram_range=(1, 3))),\n                ('transformer', TfidfTransformer(smooth_idf=False)),\n                ('classifier', LogisticRegression(C=1.1, max_iter=50))])"
     },
     "execution_count": 106,
     "metadata": {},
     "output_type": "execute_result"
    }
   ],
   "source": [
    "%%time\n",
    "LR = make_pipeline(CountVectorizer(ngram_range=(1, 3), min_df=3, max_df=0.95),\n",
    "                   TfidfTransformer(smooth_idf=False),\n",
    "                   LogisticRegression(solver='lbfgs', max_iter=50, C=1.1))\n",
    "LR.fit(X_resampled, y_resampled)"
   ],
   "metadata": {
    "collapsed": false,
    "pycharm": {
     "name": "#%%\n"
    }
   }
  },
  {
   "cell_type": "code",
   "execution_count": 107,
   "outputs": [],
   "source": [
    "pred = LR.predict(X_test)"
   ],
   "metadata": {
    "collapsed": false,
    "pycharm": {
     "name": "#%%\n"
    }
   }
  },
  {
   "cell_type": "code",
   "execution_count": 108,
   "outputs": [],
   "source": [
    "Id = range(0, 100)\n",
    "submission = pd.DataFrame({\"Id\": Id, \"y\": pd.Series(pred).apply(lambda x: 'neg' if x == 0 else 'pos')})\n",
    "submission.to_csv('submission.csv', index=False)"
   ],
   "metadata": {
    "collapsed": false,
    "pycharm": {
     "name": "#%%\n"
    }
   }
  },
  {
   "cell_type": "markdown",
   "source": [
    "# Сохраняем модель"
   ],
   "metadata": {
    "collapsed": false
   }
  },
  {
   "cell_type": "code",
   "execution_count": 109,
   "outputs": [],
   "source": [
    "import pickle\n",
    "with open('my_LR_classifier.pkl', 'wb') as f:\n",
    "    pickle.dump(LR, f)"
   ],
   "metadata": {
    "collapsed": false,
    "pycharm": {
     "name": "#%%\n"
    }
   }
  }
 ],
 "metadata": {
  "kernelspec": {
   "display_name": "Python 3",
   "language": "python",
   "name": "python3"
  },
  "language_info": {
   "codemirror_mode": {
    "name": "ipython",
    "version": 2
   },
   "file_extension": ".py",
   "mimetype": "text/x-python",
   "name": "python",
   "nbconvert_exporter": "python",
   "pygments_lexer": "ipython2",
   "version": "2.7.6"
  }
 },
 "nbformat": 4,
 "nbformat_minor": 0
}