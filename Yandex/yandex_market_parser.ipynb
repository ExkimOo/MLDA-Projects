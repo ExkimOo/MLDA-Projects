{
 "cells": [
  {
   "cell_type": "code",
   "execution_count": 5,
   "metadata": {
    "collapsed": true
   },
   "outputs": [],
   "source": [
    "import json\n",
    "import re\n",
    "from time import sleep\n",
    "\n",
    "from bs4 import BeautifulSoup\n",
    "from selenium import webdriver\n",
    "import undetected_chromedriver"
   ]
  },
  {
   "cell_type": "markdown",
   "source": [
    "# Получение ссылок на телефоны"
   ],
   "metadata": {
    "collapsed": false
   }
  },
  {
   "cell_type": "code",
   "execution_count": 6,
   "outputs": [],
   "source": [
    "url = 'https://market.yandex.ru/search?cvredirect=2&text=%D1%81%D0%BC%D0%B0%D1%80%D1%82%D1%84%D0%BE%D0%BD%D1%8B&local-offers-first=0&page='"
   ],
   "metadata": {
    "collapsed": false,
    "pycharm": {
     "name": "#%%\n"
    }
   }
  },
  {
   "cell_type": "code",
   "execution_count": 7,
   "outputs": [
    {
     "name": "stdout",
     "output_type": "stream",
     "text": [
      "1\n",
      "2\n"
     ]
    }
   ],
   "source": [
    "driver = undetected_chromedriver.Chrome()\n",
    "\n",
    "links = []\n",
    "for i in range(1, 3):\n",
    "    driver.get(url + str(i))\n",
    "    sleep(7)\n",
    "    html = driver.page_source\n",
    "    soup = BeautifulSoup(html, 'html.parser')\n",
    "    a_tags = soup.find_all('a', class_='_2f75n _2k4aa _1_8WQ cia-cs')\n",
    "    for a in a_tags:\n",
    "        links.append(a.get('href'))\n",
    "    print(i)\n",
    "\n",
    "with open('links.txt', 'a') as file:\n",
    "    for link in links:\n",
    "        file.write(str(link) + '\\n')"
   ],
   "metadata": {
    "collapsed": false,
    "pycharm": {
     "name": "#%%\n"
    }
   }
  },
  {
   "cell_type": "markdown",
   "source": [
    "# Приведение ссылок на телефоны к нужному виду, устранение дубликатов"
   ],
   "metadata": {
    "collapsed": false,
    "pycharm": {
     "name": "#%% md\n"
    }
   }
  },
  {
   "cell_type": "code",
   "execution_count": 3,
   "outputs": [
    {
     "name": "stdout",
     "output_type": "stream",
     "text": [
      "/product--smartfon-xiaomi-redmi-note-10-pro/861652002/\n",
      "/product--smartfon-xiaomi-redmi-9a/670614000/\n",
      "/product--smartfon-realme-8/875544009/\n",
      "/product--smartfon-honor-x8/1740363991/\n",
      "/product--smartfon-xiaomi-11-lite-5g-ne/1449166270/\n",
      "/product--smartfon-samsung-galaxy-a52/865640004/\n"
     ]
    }
   ],
   "source": [
    "with open('links.txt', 'r') as file:\n",
    "    text = file.read()\n",
    "    a = re.findall(r'\\/[A-Za-z0-9-]+\\/[0-9]+\\/', text)\n",
    "    links_wo_repetitions = set(a)\n",
    "\n",
    "with open('good_links.txt', 'a') as file2:\n",
    "    for link in links_wo_repetitions:\n",
    "        print(str(link))\n",
    "        file2.write(str(link) + '\\n')"
   ],
   "metadata": {
    "collapsed": false,
    "pycharm": {
     "name": "#%%\n"
    }
   }
  },
  {
   "cell_type": "markdown",
   "source": [
    "# Парсинг отзывов в JSON"
   ],
   "metadata": {
    "collapsed": false
   }
  },
  {
   "cell_type": "code",
   "execution_count": 7,
   "outputs": [],
   "source": [
    "def get_divs():\n",
    "    sleep(randint(4, 6))\n",
    "    html = driver.page_source\n",
    "    soup = BeautifulSoup(html, 'html.parser')\n",
    "\n",
    "    return soup.find_all('div', class_='_3K8Ed')"
   ],
   "metadata": {
    "collapsed": false,
    "pycharm": {
     "name": "#%%\n"
    }
   }
  },
  {
   "cell_type": "code",
   "execution_count": 8,
   "outputs": [
    {
     "ename": "WebDriverException",
     "evalue": "Message: chrome not reachable\n  (Session info: chrome=101.0.4951.67)\nStacktrace:\nBacktrace:\n\tOrdinal0 [0x003DB8F3+2406643]\n\tOrdinal0 [0x0036AF31+1945393]\n\tOrdinal0 [0x0025C610+837136]\n\tOrdinal0 [0x00250442+787522]\n\tOrdinal0 [0x00250C78+789624]\n\tOrdinal0 [0x002524B2+795826]\n\tOrdinal0 [0x0024BF09+769801]\n\tOrdinal0 [0x0025DAC0+842432]\n\tOrdinal0 [0x002B3E62+1195618]\n\tOrdinal0 [0x002A4096+1130646]\n\tOrdinal0 [0x0027E636+976438]\n\tOrdinal0 [0x0027F546+980294]\n\tGetHandleVerifier [0x00649612+2498066]\n\tGetHandleVerifier [0x0063C920+2445600]\n\tGetHandleVerifier [0x00474F2A+579370]\n\tGetHandleVerifier [0x00473D36+574774]\n\tOrdinal0 [0x00371C0B+1973259]\n\tOrdinal0 [0x00376688+1992328]\n\tOrdinal0 [0x00376775+1992565]\n\tOrdinal0 [0x0037F8D1+2029777]\n\tBaseThreadInitThunk [0x7726FA29+25]\n\tRtlGetAppContainerNamedObjectPath [0x773B7A9E+286]\n\tRtlGetAppContainerNamedObjectPath [0x773B7A6E+238]\n",
     "output_type": "error",
     "traceback": [
      "\u001B[1;31m---------------------------------------------------------------------------\u001B[0m",
      "\u001B[1;31mWebDriverException\u001B[0m                        Traceback (most recent call last)",
      "File \u001B[1;32m<timed exec>:13\u001B[0m, in \u001B[0;36m<module>\u001B[1;34m\u001B[0m\n",
      "Input \u001B[1;32mIn [7]\u001B[0m, in \u001B[0;36mget_divs\u001B[1;34m()\u001B[0m\n\u001B[0;32m      1\u001B[0m \u001B[38;5;28;01mdef\u001B[39;00m \u001B[38;5;21mget_divs\u001B[39m():\n\u001B[0;32m      2\u001B[0m     sleep(randint(\u001B[38;5;241m4\u001B[39m, \u001B[38;5;241m6\u001B[39m))\n\u001B[1;32m----> 3\u001B[0m     html \u001B[38;5;241m=\u001B[39m \u001B[43mdriver\u001B[49m\u001B[38;5;241;43m.\u001B[39;49m\u001B[43mpage_source\u001B[49m\n\u001B[0;32m      4\u001B[0m     soup \u001B[38;5;241m=\u001B[39m BeautifulSoup(html, \u001B[38;5;124m'\u001B[39m\u001B[38;5;124mhtml.parser\u001B[39m\u001B[38;5;124m'\u001B[39m)\n\u001B[0;32m      6\u001B[0m     \u001B[38;5;28;01mreturn\u001B[39;00m soup\u001B[38;5;241m.\u001B[39mfind_all(\u001B[38;5;124m'\u001B[39m\u001B[38;5;124mdiv\u001B[39m\u001B[38;5;124m'\u001B[39m, class_\u001B[38;5;241m=\u001B[39m\u001B[38;5;124m'\u001B[39m\u001B[38;5;124m_3K8Ed\u001B[39m\u001B[38;5;124m'\u001B[39m)\n",
      "File \u001B[1;32m~\\AppData\\Local\\Programs\\Python\\Python310\\lib\\site-packages\\undetected_chromedriver\\__init__.py:433\u001B[0m, in \u001B[0;36mChrome.__getattribute__\u001B[1;34m(self, item)\u001B[0m\n\u001B[0;32m    430\u001B[0m \u001B[38;5;28;01mdef\u001B[39;00m \u001B[38;5;21m__getattribute__\u001B[39m(\u001B[38;5;28mself\u001B[39m, item):\n\u001B[0;32m    432\u001B[0m     \u001B[38;5;28;01mif\u001B[39;00m \u001B[38;5;129;01mnot\u001B[39;00m \u001B[38;5;28msuper\u001B[39m()\u001B[38;5;241m.\u001B[39m\u001B[38;5;21m__getattribute__\u001B[39m(\u001B[38;5;124m\"\u001B[39m\u001B[38;5;124mdebug\u001B[39m\u001B[38;5;124m\"\u001B[39m):\n\u001B[1;32m--> 433\u001B[0m         \u001B[38;5;28;01mreturn\u001B[39;00m \u001B[38;5;28;43msuper\u001B[39;49m\u001B[43m(\u001B[49m\u001B[43m)\u001B[49m\u001B[38;5;241;43m.\u001B[39;49m\u001B[38;5;21;43m__getattribute__\u001B[39;49m\u001B[43m(\u001B[49m\u001B[43mitem\u001B[49m\u001B[43m)\u001B[49m\n\u001B[0;32m    434\u001B[0m     \u001B[38;5;28;01melse\u001B[39;00m:\n\u001B[0;32m    435\u001B[0m         \u001B[38;5;28;01mimport\u001B[39;00m \u001B[38;5;21;01minspect\u001B[39;00m\n",
      "File \u001B[1;32m~\\AppData\\Local\\Programs\\Python\\Python310\\lib\\site-packages\\selenium\\webdriver\\remote\\webdriver.py:927\u001B[0m, in \u001B[0;36mWebDriver.page_source\u001B[1;34m(self)\u001B[0m\n\u001B[0;32m    917\u001B[0m \u001B[38;5;129m@property\u001B[39m\n\u001B[0;32m    918\u001B[0m \u001B[38;5;28;01mdef\u001B[39;00m \u001B[38;5;21mpage_source\u001B[39m(\u001B[38;5;28mself\u001B[39m) \u001B[38;5;241m-\u001B[39m\u001B[38;5;241m>\u001B[39m \u001B[38;5;28mstr\u001B[39m:\n\u001B[0;32m    919\u001B[0m     \u001B[38;5;124;03m\"\"\"\u001B[39;00m\n\u001B[0;32m    920\u001B[0m \u001B[38;5;124;03m    Gets the source of the current page.\u001B[39;00m\n\u001B[0;32m    921\u001B[0m \n\u001B[1;32m   (...)\u001B[0m\n\u001B[0;32m    925\u001B[0m \u001B[38;5;124;03m            driver.page_source\u001B[39;00m\n\u001B[0;32m    926\u001B[0m \u001B[38;5;124;03m    \"\"\"\u001B[39;00m\n\u001B[1;32m--> 927\u001B[0m     \u001B[38;5;28;01mreturn\u001B[39;00m \u001B[38;5;28;43mself\u001B[39;49m\u001B[38;5;241;43m.\u001B[39;49m\u001B[43mexecute\u001B[49m\u001B[43m(\u001B[49m\u001B[43mCommand\u001B[49m\u001B[38;5;241;43m.\u001B[39;49m\u001B[43mGET_PAGE_SOURCE\u001B[49m\u001B[43m)\u001B[49m[\u001B[38;5;124m'\u001B[39m\u001B[38;5;124mvalue\u001B[39m\u001B[38;5;124m'\u001B[39m]\n",
      "File \u001B[1;32m~\\AppData\\Local\\Programs\\Python\\Python310\\lib\\site-packages\\selenium\\webdriver\\remote\\webdriver.py:425\u001B[0m, in \u001B[0;36mWebDriver.execute\u001B[1;34m(self, driver_command, params)\u001B[0m\n\u001B[0;32m    423\u001B[0m response \u001B[38;5;241m=\u001B[39m \u001B[38;5;28mself\u001B[39m\u001B[38;5;241m.\u001B[39mcommand_executor\u001B[38;5;241m.\u001B[39mexecute(driver_command, params)\n\u001B[0;32m    424\u001B[0m \u001B[38;5;28;01mif\u001B[39;00m response:\n\u001B[1;32m--> 425\u001B[0m     \u001B[38;5;28;43mself\u001B[39;49m\u001B[38;5;241;43m.\u001B[39;49m\u001B[43merror_handler\u001B[49m\u001B[38;5;241;43m.\u001B[39;49m\u001B[43mcheck_response\u001B[49m\u001B[43m(\u001B[49m\u001B[43mresponse\u001B[49m\u001B[43m)\u001B[49m\n\u001B[0;32m    426\u001B[0m     response[\u001B[38;5;124m'\u001B[39m\u001B[38;5;124mvalue\u001B[39m\u001B[38;5;124m'\u001B[39m] \u001B[38;5;241m=\u001B[39m \u001B[38;5;28mself\u001B[39m\u001B[38;5;241m.\u001B[39m_unwrap_value(\n\u001B[0;32m    427\u001B[0m         response\u001B[38;5;241m.\u001B[39mget(\u001B[38;5;124m'\u001B[39m\u001B[38;5;124mvalue\u001B[39m\u001B[38;5;124m'\u001B[39m, \u001B[38;5;28;01mNone\u001B[39;00m))\n\u001B[0;32m    428\u001B[0m     \u001B[38;5;28;01mreturn\u001B[39;00m response\n",
      "File \u001B[1;32m~\\AppData\\Local\\Programs\\Python\\Python310\\lib\\site-packages\\selenium\\webdriver\\remote\\errorhandler.py:247\u001B[0m, in \u001B[0;36mErrorHandler.check_response\u001B[1;34m(self, response)\u001B[0m\n\u001B[0;32m    245\u001B[0m         alert_text \u001B[38;5;241m=\u001B[39m value[\u001B[38;5;124m'\u001B[39m\u001B[38;5;124malert\u001B[39m\u001B[38;5;124m'\u001B[39m]\u001B[38;5;241m.\u001B[39mget(\u001B[38;5;124m'\u001B[39m\u001B[38;5;124mtext\u001B[39m\u001B[38;5;124m'\u001B[39m)\n\u001B[0;32m    246\u001B[0m     \u001B[38;5;28;01mraise\u001B[39;00m exception_class(message, screen, stacktrace, alert_text)  \u001B[38;5;66;03m# type: ignore[call-arg]  # mypy is not smart enough here\u001B[39;00m\n\u001B[1;32m--> 247\u001B[0m \u001B[38;5;28;01mraise\u001B[39;00m exception_class(message, screen, stacktrace)\n",
      "\u001B[1;31mWebDriverException\u001B[0m: Message: chrome not reachable\n  (Session info: chrome=101.0.4951.67)\nStacktrace:\nBacktrace:\n\tOrdinal0 [0x003DB8F3+2406643]\n\tOrdinal0 [0x0036AF31+1945393]\n\tOrdinal0 [0x0025C610+837136]\n\tOrdinal0 [0x00250442+787522]\n\tOrdinal0 [0x00250C78+789624]\n\tOrdinal0 [0x002524B2+795826]\n\tOrdinal0 [0x0024BF09+769801]\n\tOrdinal0 [0x0025DAC0+842432]\n\tOrdinal0 [0x002B3E62+1195618]\n\tOrdinal0 [0x002A4096+1130646]\n\tOrdinal0 [0x0027E636+976438]\n\tOrdinal0 [0x0027F546+980294]\n\tGetHandleVerifier [0x00649612+2498066]\n\tGetHandleVerifier [0x0063C920+2445600]\n\tGetHandleVerifier [0x00474F2A+579370]\n\tGetHandleVerifier [0x00473D36+574774]\n\tOrdinal0 [0x00371C0B+1973259]\n\tOrdinal0 [0x00376688+1992328]\n\tOrdinal0 [0x00376775+1992565]\n\tOrdinal0 [0x0037F8D1+2029777]\n\tBaseThreadInitThunk [0x7726FA29+25]\n\tRtlGetAppContainerNamedObjectPath [0x773B7A9E+286]\n\tRtlGetAppContainerNamedObjectPath [0x773B7A6E+238]\n"
     ]
    }
   ],
   "source": [
    "%%time\n",
    "from random import randint\n",
    "\n",
    "with open('good_links.txt', 'r') as file:\n",
    "    links = file.read().split('\\n')\n",
    "\n",
    "driver = undetected_chromedriver.Chrome()\n",
    "\n",
    "total_reviews = 0\n",
    "for link in links:\n",
    "    i = 1\n",
    "    while(True):\n",
    "        driver.get(f'https://market.yandex.ru/{link}reviews?track=rev_mc&page={i}')\n",
    "        divs = get_divs()\n",
    "\n",
    "        if len(divs) == 0:\n",
    "            if re.findall('captcha', driver.current_url):\n",
    "                checkbox = driver.find_element_by_class_name('CheckboxCaptcha-Button')\n",
    "                webdriver.ActionChains(driver).double_click(checkbox).perform()\n",
    "\n",
    "                divs = get_divs()\n",
    "            else:\n",
    "                break\n",
    "\n",
    "        for tag in divs:\n",
    "            review_rating = tag.find('div', class_='_3iy4z _3DD8b autotest-RatingStars').get('data-rate')\n",
    "            review = tag.find('div', class_='_3IXcz').find_all('dd', class_='_1yULR')\n",
    "            review_text = ''\n",
    "            for element in review:\n",
    "                review_text += (element.text + ' ')\n",
    "\n",
    "            with open('train_yandex_market.json', 'a', encoding='utf-8') as f:\n",
    "                json.dump({'text': review_text, 'rating': review_rating}, f, ensure_ascii=False)\n",
    "                f.write('\\n')\n",
    "\n",
    "        total_reviews += len(divs)\n",
    "        print(f'Link: {link}\\nPage: {i}\\nTotal: {total_reviews}')\n",
    "        i += 1"
   ],
   "metadata": {
    "collapsed": false,
    "pycharm": {
     "name": "#%%\n"
    }
   }
  },
  {
   "cell_type": "code",
   "execution_count": null,
   "outputs": [],
   "source": [],
   "metadata": {
    "collapsed": false,
    "pycharm": {
     "name": "#%%\n"
    }
   }
  }
 ],
 "metadata": {
  "kernelspec": {
   "display_name": "Python 3",
   "language": "python",
   "name": "python3"
  },
  "language_info": {
   "codemirror_mode": {
    "name": "ipython",
    "version": 2
   },
   "file_extension": ".py",
   "mimetype": "text/x-python",
   "name": "python",
   "nbconvert_exporter": "python",
   "pygments_lexer": "ipython2",
   "version": "2.7.6"
  }
 },
 "nbformat": 4,
 "nbformat_minor": 0
}